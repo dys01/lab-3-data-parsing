{
 "cells": [
  {
   "cell_type": "code",
   "execution_count": 9,
   "metadata": {},
   "outputs": [],
   "source": [
    "import pandas as pd\n",
    "df_raw = pd.read_csv('/Users/matthewdyson/lab-3-data-parsing/data/messy_strings.csv')"
   ]
  },
  {
   "cell_type": "code",
   "execution_count": 32,
   "metadata": {},
   "outputs": [],
   "source": [
    "import string\n",
    "def clean_strings(strings):\n",
    "    strings = pd.Series(strings).str.strip()\n",
    "    strings = pd.Series(strings).str.lower()\n",
    "    for i in range(len(string.punctuation)):\n",
    "        strings = pd.Series(strings).str.replace(string.punctuation[i], '')\n",
    "    strings = pd.Series(strings).dropna()\n",
    "    return strings"
   ]
  },
  {
   "cell_type": "code",
   "execution_count": 34,
   "metadata": {},
   "outputs": [],
   "source": [
    "df_raw['clean'] = clean_strings(df_raw['raw'])"
   ]
  },
  {
   "cell_type": "code",
   "execution_count": 55,
   "metadata": {},
   "outputs": [
    {
     "name": "stdout",
     "output_type": "stream",
     "text": [
      "Total Rows: 50\n",
      "Unique Values: 6\n",
      "Most Common String: charlie\n"
     ]
    }
   ],
   "source": [
    "rows = len(df_raw['clean'])\n",
    "unique = df_raw['clean'].nunique()\n",
    "common = df_raw['clean'].value_counts()\n",
    "print(f\"Total Rows: {rows}\")\n",
    "print(f\"Unique Values: {unique}\")\n",
    "print(f\"Most Common String: {common.index[0]}\")"
   ]
  },
  {
   "cell_type": "code",
   "execution_count": null,
   "metadata": {},
   "outputs": [],
   "source": []
  }
 ],
 "metadata": {
  "kernelspec": {
   "display_name": "lab_3",
   "language": "python",
   "name": "python3"
  },
  "language_info": {
   "codemirror_mode": {
    "name": "ipython",
    "version": 3
   },
   "file_extension": ".py",
   "mimetype": "text/x-python",
   "name": "python",
   "nbconvert_exporter": "python",
   "pygments_lexer": "ipython3",
   "version": "3.13.5"
  }
 },
 "nbformat": 4,
 "nbformat_minor": 2
}
